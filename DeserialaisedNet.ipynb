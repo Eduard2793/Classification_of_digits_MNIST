{
 "cells": [
  {
   "cell_type": "code",
   "execution_count": 5,
   "metadata": {},
   "outputs": [
    {
     "name": "stderr",
     "output_type": "stream",
     "text": [
      "Using TensorFlow backend.\n",
      "C:\\Users\\uSer\\AnacondaMy\\lib\\site-packages\\tensorflow\\python\\framework\\dtypes.py:516: FutureWarning: Passing (type, 1) or '1type' as a synonym of type is deprecated; in a future version of numpy, it will be understood as (type, (1,)) / '(1,)type'.\n",
      "  _np_qint8 = np.dtype([(\"qint8\", np.int8, 1)])\n",
      "C:\\Users\\uSer\\AnacondaMy\\lib\\site-packages\\tensorflow\\python\\framework\\dtypes.py:517: FutureWarning: Passing (type, 1) or '1type' as a synonym of type is deprecated; in a future version of numpy, it will be understood as (type, (1,)) / '(1,)type'.\n",
      "  _np_quint8 = np.dtype([(\"quint8\", np.uint8, 1)])\n",
      "C:\\Users\\uSer\\AnacondaMy\\lib\\site-packages\\tensorflow\\python\\framework\\dtypes.py:518: FutureWarning: Passing (type, 1) or '1type' as a synonym of type is deprecated; in a future version of numpy, it will be understood as (type, (1,)) / '(1,)type'.\n",
      "  _np_qint16 = np.dtype([(\"qint16\", np.int16, 1)])\n",
      "C:\\Users\\uSer\\AnacondaMy\\lib\\site-packages\\tensorflow\\python\\framework\\dtypes.py:519: FutureWarning: Passing (type, 1) or '1type' as a synonym of type is deprecated; in a future version of numpy, it will be understood as (type, (1,)) / '(1,)type'.\n",
      "  _np_quint16 = np.dtype([(\"quint16\", np.uint16, 1)])\n",
      "C:\\Users\\uSer\\AnacondaMy\\lib\\site-packages\\tensorflow\\python\\framework\\dtypes.py:520: FutureWarning: Passing (type, 1) or '1type' as a synonym of type is deprecated; in a future version of numpy, it will be understood as (type, (1,)) / '(1,)type'.\n",
      "  _np_qint32 = np.dtype([(\"qint32\", np.int32, 1)])\n",
      "C:\\Users\\uSer\\AnacondaMy\\lib\\site-packages\\tensorflow\\python\\framework\\dtypes.py:525: FutureWarning: Passing (type, 1) or '1type' as a synonym of type is deprecated; in a future version of numpy, it will be understood as (type, (1,)) / '(1,)type'.\n",
      "  np_resource = np.dtype([(\"resource\", np.ubyte, 1)])\n",
      "C:\\Users\\uSer\\AnacondaMy\\lib\\site-packages\\tensorboard\\compat\\tensorflow_stub\\dtypes.py:541: FutureWarning: Passing (type, 1) or '1type' as a synonym of type is deprecated; in a future version of numpy, it will be understood as (type, (1,)) / '(1,)type'.\n",
      "  _np_qint8 = np.dtype([(\"qint8\", np.int8, 1)])\n",
      "C:\\Users\\uSer\\AnacondaMy\\lib\\site-packages\\tensorboard\\compat\\tensorflow_stub\\dtypes.py:542: FutureWarning: Passing (type, 1) or '1type' as a synonym of type is deprecated; in a future version of numpy, it will be understood as (type, (1,)) / '(1,)type'.\n",
      "  _np_quint8 = np.dtype([(\"quint8\", np.uint8, 1)])\n",
      "C:\\Users\\uSer\\AnacondaMy\\lib\\site-packages\\tensorboard\\compat\\tensorflow_stub\\dtypes.py:543: FutureWarning: Passing (type, 1) or '1type' as a synonym of type is deprecated; in a future version of numpy, it will be understood as (type, (1,)) / '(1,)type'.\n",
      "  _np_qint16 = np.dtype([(\"qint16\", np.int16, 1)])\n",
      "C:\\Users\\uSer\\AnacondaMy\\lib\\site-packages\\tensorboard\\compat\\tensorflow_stub\\dtypes.py:544: FutureWarning: Passing (type, 1) or '1type' as a synonym of type is deprecated; in a future version of numpy, it will be understood as (type, (1,)) / '(1,)type'.\n",
      "  _np_quint16 = np.dtype([(\"quint16\", np.uint16, 1)])\n",
      "C:\\Users\\uSer\\AnacondaMy\\lib\\site-packages\\tensorboard\\compat\\tensorflow_stub\\dtypes.py:545: FutureWarning: Passing (type, 1) or '1type' as a synonym of type is deprecated; in a future version of numpy, it will be understood as (type, (1,)) / '(1,)type'.\n",
      "  _np_qint32 = np.dtype([(\"qint32\", np.int32, 1)])\n",
      "C:\\Users\\uSer\\AnacondaMy\\lib\\site-packages\\tensorboard\\compat\\tensorflow_stub\\dtypes.py:550: FutureWarning: Passing (type, 1) or '1type' as a synonym of type is deprecated; in a future version of numpy, it will be understood as (type, (1,)) / '(1,)type'.\n",
      "  np_resource = np.dtype([(\"resource\", np.ubyte, 1)])\n"
     ]
    }
   ],
   "source": [
    "from keras.datasets import mnist"
   ]
  },
  {
   "cell_type": "code",
   "execution_count": 6,
   "metadata": {},
   "outputs": [],
   "source": [
    "(x_train, y_train), (x_test, y_test) = mnist.load_data()"
   ]
  },
  {
   "cell_type": "code",
   "execution_count": 7,
   "metadata": {},
   "outputs": [],
   "source": [
    "digit = x_train[1]"
   ]
  },
  {
   "cell_type": "code",
   "execution_count": 8,
   "metadata": {},
   "outputs": [],
   "source": [
    "import numpy as np\n",
    "import matplotlib\n",
    "import matplotlib.pyplot as plt"
   ]
  },
  {
   "cell_type": "code",
   "execution_count": 9,
   "metadata": {},
   "outputs": [
    {
     "data": {
      "image/png": "[encoded data removed]",
      "text/plain": [
       "<Figure size 432x288 with 1 Axes>"
      ]
     },
     "metadata": {
      "needs_background": "light"
     },
     "output_type": "display_data"
    }
   ],
   "source": [
    "fig, ax = plt.subplots()\n",
    "im = ax.imshow(digit)\n",
    "plt.show()"
   ]
  },
  {
   "cell_type": "code",
   "execution_count": 303,
   "metadata": {},
   "outputs": [
    {
     "data": {
      "image/png": "[encoded data removed]",
      "text/plain": [
       "<Figure size 432x288 with 1 Axes>"
      ]
     },
     "metadata": {
      "needs_background": "light"
     },
     "output_type": "display_data"
    },
    {
     "data": {
      "image/png": "[encoded data removed]",
      "text/plain": [
       "<Figure size 432x288 with 1 Axes>"
      ]
     },
     "metadata": {
      "needs_background": "light"
     },
     "output_type": "display_data"
    }
   ],
   "source": [
    "# превращаю матрицу цифры в вектор водов \n",
    "# n это сколько примеров берем\n",
    "n = 1000\n",
    "X_t = [] # новый сэт из строк-чисел\n",
    "for i in range(n):\n",
    "    digit = x_train[i]\n",
    "    digit_row = []\n",
    "    for j in range(28): # 28x28 это размер входа (числа)\n",
    "        for k in range(28):\n",
    "            digit_row.append(digit[j][k]/255)\n",
    "    X_t.append(digit_row)\n",
    "\n",
    "def row_to_matrix(row):\n",
    "    matrix = []\n",
    "    k = 0\n",
    "    one_row = []\n",
    "    for i in range(len(row)):\n",
    "        one_row.append(row[i])\n",
    "        k += 1\n",
    "        if k == 28:\n",
    "            k = 0\n",
    "            matrix.append(one_row)\n",
    "            one_row = []\n",
    "    return matrix\n",
    "\n",
    "#X_t = np.array(X_t)\n",
    "\n",
    "fig, ax = plt.subplots()\n",
    "im = ax.imshow(row_to_matrix(X_t[5]))\n",
    "plt.show()\n",
    "\n",
    "fig, ax = plt.subplots()\n",
    "im = ax.imshow(x_train[5])\n",
    "plt.show()\n",
    "\n",
    "#X_t = X_t/255\n"
   ]
  },
  {
   "cell_type": "code",
   "execution_count": 304,
   "metadata": {},
   "outputs": [
    {
     "name": "stdout",
     "output_type": "stream",
     "text": [
      "2\n",
      "[[0]\n",
      " [0]\n",
      " [1]\n",
      " [0]\n",
      " [0]\n",
      " [0]\n",
      " [0]\n",
      " [0]\n",
      " [0]\n",
      " [0]]\n"
     ]
    }
   ],
   "source": [
    "print(y_train[5])\n",
    "\n",
    "Y_t = []\n",
    "\n",
    "for i in range(n):\n",
    "    ans_digit = [0,0,0,0,0,0,0,0,0,0]\n",
    "    ans_digit[y_train[i]] = 1\n",
    "    Y_t.append(ans_digit)\n",
    "\n",
    "Y_t = np.array(Y_t)\n",
    "print(Y_t[5].reshape((len(Y_t[5]),1)))\n"
   ]
  },
  {
   "cell_type": "code",
   "execution_count": 289,
   "metadata": {},
   "outputs": [],
   "source": [
    "import matplotlib.pyplot as plt\n",
    "import mpl_toolkits.mplot3d as p3\n",
    "import numpy as np\n",
    "import random\n",
    "import time\n",
    "\n",
    "from functools import partial\n",
    "from ipywidgets import interact, RadioButtons, IntSlider, FloatSlider, Dropdown, BoundedFloatText\n",
    "from numpy.linalg import norm"
   ]
  },
  {
   "cell_type": "code",
   "execution_count": 11,
   "metadata": {},
   "outputs": [],
   "source": [
    "def sigmoid(x):\n",
    "    \"\"\"сигмоидальная функция, работает и с числами, и с векторами (поэлементно)\"\"\"\n",
    "    return 1 / (1 + np.exp(-x))\n",
    "\n",
    "def sigmoid_prime(x):\n",
    "    \"\"\"производная сигмоидальной функции, работает и с числами, и с векторами (поэлементно)\"\"\"\n",
    "    return sigmoid(x) * (1 - sigmoid(x))"
   ]
  },
  {
   "cell_type": "code",
   "execution_count": 12,
   "metadata": {},
   "outputs": [],
   "source": [
    "def J_quadratic(neuron, X, y):\n",
    "    \"\"\"\n",
    "    Оценивает значение квадратичной целевой функции.\n",
    "    Всё как в лекции, никаких хитростей.\n",
    "\n",
    "    neuron - нейрон, у которого есть метод vectorized_forward_pass, предсказывающий значения на выборке X\n",
    "    X - матрица входных активаций (n, m)\n",
    "    y - вектор правильных ответов (n, 1)\n",
    "        \n",
    "    Возвращает значение J (число)\n",
    "    \"\"\"\n",
    "    \n",
    "    assert y.shape[1] == 1, 'Incorrect y shape'\n",
    "    \n",
    "    return 0.5 * np.mean((neuron.vectorized_forward_pass(X) - y) ** 2)\n",
    "\n",
    "def J_quadratic_derivative(y, y_hat):\n",
    "    \"\"\"\n",
    "    Вычисляет вектор частных производных целевой функции по каждому из предсказаний.\n",
    "    y_hat - вертикальный вектор предсказаний,\n",
    "    y - вертикальный вектор правильных ответов,\n",
    "    \n",
    "    В данном случае функция смехотворно простая, но если мы захотим поэкспериментировать \n",
    "    с целевыми функциями - полезно вынести эти вычисления в отдельный этап.\n",
    "    \n",
    "    Возвращает вектор значений производной целевой функции для каждого примера отдельно.\n",
    "    \"\"\"\n",
    "    \n",
    "    assert y_hat.shape == y.shape and y_hat.shape[1] == 1, 'Incorrect shapes'\n",
    "    \n",
    "    return (y_hat - y) / len(y)\n"
   ]
  },
  {
   "cell_type": "code",
   "execution_count": 13,
   "metadata": {},
   "outputs": [],
   "source": [
    "class Neuron:\n",
    "    \n",
    "    def __init__(self, weights,costF,costF_deriv,activation_function, activation_function_derivative):\n",
    "        self.costF = costF\n",
    "        self.costF_deriv = costF_deriv\n",
    "        self.w = weights\n",
    "        self.activation_function = activation_function\n",
    "        self.activation_function_derivative = activation_function_derivative\n",
    "    \n",
    "    def summatory(self, single_input):      \n",
    "        result = 0\n",
    "        for i in range(len(self.w)):\n",
    "            result += float(self.w[i] * single_input[i])\n",
    "        return result\n",
    "   "
   ]
  },
  {
   "cell_type": "code",
   "execution_count": 14,
   "metadata": {},
   "outputs": [],
   "source": [
    "class Network():\n",
    "    def __init__(self,layers,activeF,activeF_deriv,costF,costF_deriv,learning_rate):\n",
    "        self.lay_num = len(layers)\n",
    "        self.NET = []\n",
    "        self.activationsL = []\n",
    "        self.costF = costF\n",
    "        self.costF_deriv = costF_deriv\n",
    "        self.activeF = activeF\n",
    "        self.activeF_deriv = activeF_deriv\n",
    "        self.deltas = []\n",
    "        self.summatories = []\n",
    "        self.deltas = []\n",
    "        self.learning_rate = learning_rate\n",
    "        for L in range(self.lay_num):\n",
    "            layer = []\n",
    "            for j in range(layers[L]):\n",
    "                if L == 0:\n",
    "                    layer.append(0)\n",
    "                else:\n",
    "                    m = layers[L-1] # сколько у нейрона входов (столько же сколько нейронов на предыдущем слое)\n",
    "                    wnp = np.random.random((m, 1))*0.1\n",
    "                    w = []\n",
    "                    for i in range(wnp.size):\n",
    "                        w.append(wnp[i][0])\n",
    "                    N = Neuron(weights = w,costF=self.costF,costF_deriv=self.costF_deriv,activation_function=self.activeF, activation_function_derivative=self.activeF_deriv)\n",
    "                    layer.append(N)\n",
    "            self.NET.append(layer)\n",
    "            self.deltas.append([])\n",
    "            self.activationsL.append([])\n",
    "            self.summatories.append([])\n",
    "            self.deltas.append([])\n",
    "        return\n",
    "    \n",
    "    def predict(self,x): # x'shape is row\n",
    "        for L in range(0,self.lay_num):\n",
    "            if L == 0:\n",
    "                a = x\n",
    "                z = [0]*len(self.NET[0])\n",
    "            else:\n",
    "                n_L = len(self.NET[L])\n",
    "                a_prev = self.activationsL[L-1]\n",
    "                a = []\n",
    "                z = []\n",
    "                for j in range(n_L):\n",
    "                    s = self.NET[L][j].summatory(a_prev)\n",
    "                    z.append(s)\n",
    "                    a.append(self.activeF(s))\n",
    "            self.activationsL[L] = a\n",
    "            self.summatories[L] = z\n",
    "        return 0            \n",
    "    \n",
    "    def delta_Last(self,y): # y'shape is (10,1)\n",
    "        aLast = self.activationsL[self.lay_num-1]\n",
    "        zLast = self.summatories[self.lay_num-1]\n",
    "        aLast_np = np.array(aLast).reshape((len(aLast),1))\n",
    "        zLast_np = np.array(zLast).reshape((len(zLast),1))\n",
    "        return self.costF_deriv(y,aLast_np)*self.activeF_deriv(zLast_np)\n",
    "    \n",
    "    def peekUpDeltas(self,y):                \n",
    "        self.deltas[0] = np.zeros((len(self.NET[0]),1))\n",
    "        self.deltas[self.lay_num-1] = self.delta_Last(y)\n",
    "        for L in range(self.lay_num-2,0,-1):\n",
    "            z_L = np.array(self.summatories[L]).reshape((len(self.summatories[L]),1))\n",
    "            d_lp1 = self.deltas[L+1]\n",
    "            u = len(self.NET[L+1])\n",
    "            y = len(self.NET[L])\n",
    "            w_front = np.zeros((u,y))\n",
    "            for k in range(0,u):\n",
    "                for j in range(0,y):\n",
    "                    w_front[k][j] = self.NET[L][k].w[j].copy()\n",
    "            self.deltas[L] = w_front.T.dot(d_lp1) * self.activeF_deriv(z_L)\n",
    "        return 0\n",
    "    \n",
    "    def trainOnSingleExample(self,x,y):\n",
    "        self.predict(x)\n",
    "        self.peekUpDeltas(y)\n",
    "        for L in range(1,self.lay_num):\n",
    "            for j in range(len(self.NET[L])):\n",
    "                for k in range(len(self.NET[L-1])):\n",
    "                    self.NET[L][j].w[k] = self.NET[L][j].w[k] - self.activationsL[L-1][k]*self.deltas[L][j]*self.learning_rate\n",
    "        return 0\n",
    "        \n",
    "            \n",
    "        "
   ]
  },
  {
   "cell_type": "code",
   "execution_count": 18,
   "metadata": {},
   "outputs": [],
   "source": [
    "# беру сериализованную обученную(new) и не обученную(old) модели\n",
    "import pickle as pic\n",
    "\n",
    "f1 = open('newNet.pkl','rb')\n",
    "f2 = open('oldNet.pkl','rb')\n",
    "new_model = pic.load(f1)\n",
    "old_model = pic.load(f2)\n",
    "f1.close()\n",
    "f2.close()"
   ]
  },
  {
   "cell_type": "code",
   "execution_count": 64,
   "metadata": {},
   "outputs": [
    {
     "data": {
      "image/png": "[encoded data removed]",
      "text/plain": [
       "<Figure size 432x288 with 1 Axes>"
      ]
     },
     "metadata": {
      "needs_background": "light"
     },
     "output_type": "display_data"
    },
    {
     "data": {
      "image/png": "[encoded data removed]",
      "text/plain": [
       "<Figure size 432x288 with 1 Axes>"
      ]
     },
     "metadata": {
      "needs_background": "light"
     },
     "output_type": "display_data"
    }
   ],
   "source": [
    "X_test = [] # новый сэт из строк-чисел\n",
    "for i in range(n):\n",
    "    digit = x_test[i]\n",
    "    digit_row = []\n",
    "    for j in range(28): # 28x28 это размер входа (числа)\n",
    "        for k in range(28):\n",
    "            digit_row.append(digit[j][k]/255)\n",
    "    X_test.append(digit_row)\n",
    "\n",
    "def row_to_matrix(row):\n",
    "    matrix = []\n",
    "    k = 0\n",
    "    one_row = []\n",
    "    for i in range(len(row)):\n",
    "        one_row.append(row[i])\n",
    "        k += 1\n",
    "        if k == 28:\n",
    "            k = 0\n",
    "            matrix.append(one_row)\n",
    "            one_row = []\n",
    "    return matrix\n",
    "\n",
    "\n",
    "fig, ax = plt.subplots()\n",
    "im = ax.imshow(x_test[3])\n",
    "plt.show()\n",
    "\n",
    "fig, ax = plt.subplots()\n",
    "im = ax.imshow(row_to_matrix(X_test[3]))\n",
    "plt.show()"
   ]
  },
  {
   "cell_type": "code",
   "execution_count": 65,
   "metadata": {},
   "outputs": [
    {
     "name": "stdout",
     "output_type": "stream",
     "text": [
      "0\n",
      "[0.6417119108637154, 5.5466511005700544e-05, 0.002118778992587164, 0.0012511551034988658, 0.0002342688353363007, 0.004975616397296998, 0.0892477225142454, 0.06478203950183214, 0.0021832678125957555, 0.00037517493474662687]\n"
     ]
    }
   ],
   "source": [
    "new_model.predict(X_test[3])\n",
    "print(new_model.activationsL[1].index(max(new_model.activationsL[1])))\n",
    "print(new_model.activationsL[1])"
   ]
  },
  {
   "cell_type": "code",
   "execution_count": 61,
   "metadata": {},
   "outputs": [
    {
     "name": "stdout",
     "output_type": "stream",
     "text": [
      "0\n"
     ]
    }
   ],
   "source": [
    "old_model.predict(X_test[90])\n",
    "print(old_model.activationsL[1].index(max(old_model.activationsL[1])))"
   ]
  },
  {
   "cell_type": "code",
   "execution_count": 35,
   "metadata": {},
   "outputs": [
    {
     "name": "stdout",
     "output_type": "stream",
     "text": [
      "[[1 2 3]\n",
      " [2 0 1]\n",
      " [3 2 2]]\n",
      "[[-0.25   0.25   0.25 ]\n",
      " [-0.125 -0.875  0.625]\n",
      " [ 0.5    0.5   -0.5  ]]\n",
      "[[ 1.00000000e+00 -4.44089210e-16  0.00000000e+00]\n",
      " [ 5.55111512e-16  1.00000000e+00 -2.22044605e-16]\n",
      " [ 5.55111512e-16 -3.33066907e-16  1.00000000e+00]]\n"
     ]
    }
   ],
   "source": [
    "M = np.array([[1,2,3],[2,0,1],[3,2,2]])\n",
    "\n",
    "print(M)\n",
    "\n",
    "N = np.linalg.pinv(M)\n",
    "\n",
    "print(N)\n",
    "\n",
    "print(M.dot(N))\n"
   ]
  },
  {
   "cell_type": "code",
   "execution_count": 74,
   "metadata": {},
   "outputs": [
    {
     "data": {
      "image/png": "[encoded data removed]",
      "text/plain": [
       "<Figure size 432x288 with 1 Axes>"
      ]
     },
     "metadata": {
      "needs_background": "light"
     },
     "output_type": "display_data"
    }
   ],
   "source": [
    "W = []\n",
    "for j in range(len(new_model.NET[1])):\n",
    "    w_L = []\n",
    "    for k in range(len(new_model.NET[0])):\n",
    "        w_L.append(new_model.NET[1][j].w[k][0])\n",
    "    W.append(w_L)\n",
    "\n",
    "W_revers = np.linalg.pinv(np.array(W))\n",
    "one = np.array([0,1,0,0,0,0,0,0,0,0]).reshape((10,1))\n",
    "\n",
    "digitOne = W_revers.dot(one)\n",
    "\n",
    "def calamn_to_matrix(calamn):\n",
    "    matrix = []\n",
    "    k = 0\n",
    "    one_row = []\n",
    "    for i in range(len(calamn)):\n",
    "        one_row.append(calamn[i][0])\n",
    "        k += 1\n",
    "        if k == 28:\n",
    "            k = 0\n",
    "            matrix.append(one_row)\n",
    "            one_row = []\n",
    "    return matrix\n",
    "\n",
    "digitOneMatrix = calamn_to_matrix(digitOne)\n",
    "\n",
    "fig, ax = plt.subplots()\n",
    "im = ax.imshow(digitOneMatrix)\n",
    "plt.show()\n"
   ]
  },
  {
   "cell_type": "code",
   "execution_count": null,
   "metadata": {},
   "outputs": [],
   "source": []
  }
 ],
 "metadata": {
  "kernelspec": {
   "display_name": "Python 3",
   "language": "python",
   "name": "python3"
  },
  "language_info": {
   "codemirror_mode": {
    "name": "ipython",
    "version": 3
   },
   "file_extension": ".py",
   "mimetype": "text/x-python",
   "name": "python",
   "nbconvert_exporter": "python",
   "pygments_lexer": "ipython3",
   "version": "3.7.6"
  }
 },
 "nbformat": 4,
 "nbformat_minor": 4
}
